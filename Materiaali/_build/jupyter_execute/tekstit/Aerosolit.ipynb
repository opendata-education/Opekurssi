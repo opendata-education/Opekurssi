{
 "cells": [
  {
   "cell_type": "markdown",
   "id": "fa4d14a0",
   "metadata": {},
   "source": [
    "# Aerosoleja ilmassa?"
   ]
  },
  {
   "cell_type": "markdown",
   "id": "72f2ae91",
   "metadata": {},
   "source": [
    "*Tämä harjoite on esimerkki laskennallisesta esseestä opiskelijatöitä varten.*\n",
    "\n",
    "*Varsinaisessa työssä odotetaan syvällisempää pohdintaa aiheen tiimoilta.*"
   ]
  },
  {
   "cell_type": "markdown",
   "id": "3eb30a62",
   "metadata": {},
   "source": [
    "## Mistä on kyse?"
   ]
  },
  {
   "cell_type": "markdown",
   "id": "28f73d75",
   "metadata": {},
   "source": [
    "Tutustuin kurssilla aerosoleihin, kantajakaasuun sekoittuneisiin pienhiukkasiin, joilla on suuri vaikutus planeettamme toimintaan. Ne osallistuvat ilmastonmuutokseen monin tavoin, kuten lisäämällä pilvien muodostusta ja täten planeettamme albedoa, mutta vastaavasti niiden kerääntymisellä ilmakehään on myös haittavaikutuksia, kuten ilmanlaadun huononeminen ja siitä seuraavat terveysongelmat.\n"
   ]
  },
  {
   "cell_type": "markdown",
   "id": "5e830643",
   "metadata": {},
   "source": [
    "## Aihevalinta ja tutkimuskysymys"
   ]
  },
  {
   "cell_type": "markdown",
   "id": "08b30989",
   "metadata": {},
   "source": [
    "Valitsin ensimmäiseksi tarkasteltavaksi aiheekseni Hyytiälän SMEAR-II -aseman mittaaman aerosolien kokonaismäärän vuoden 2023 aikana saadakseni yleiskuvaa tilanteeseen. Vertaan sitä alueen lämpötilamittauksiin nähdäkseni rautalankatasolla onko näiden kahden suureen välillä jotain selkeää yhteyttä ennen syvempää tarkastelua.\n",
    "\n",
    "<img src = \"https://lh3.googleusercontent.com/pw/AIL4fc_LLVnGNp-y5gbwm65FwqwgOPGCyfnzqtt6GwcaVISMZRjZJXHkv1ZfzPNFUDhW6w45aHOru0P02YkWNNJm5r2DqJBj8cFOWKm1pnvssQe6MuhMOZsPKiFmZqS4iOcahjKc4ajgKqJR9KwH-Hv_bidM=w1600-h998-s-no?authuser=0\" >\n",
    "\n",
    "(kuva Hyytiälän mittaustornilta, tekijä Juho Aalto)"
   ]
  },
  {
   "cell_type": "markdown",
   "id": "31ce9273",
   "metadata": {},
   "source": [
    "## Aineisto"
   ]
  },
  {
   "cell_type": "code",
   "execution_count": 1,
   "id": "9ce4dc51",
   "metadata": {},
   "outputs": [],
   "source": [
    "# Tuodaan tarvittavat komentokirjastot.\n",
    "\n",
    "import pandas as pd\n",
    "import numpy as np\n",
    "import matplotlib.pyplot as plt"
   ]
  },
  {
   "cell_type": "code",
   "execution_count": 2,
   "id": "d5c65d7c",
   "metadata": {},
   "outputs": [
    {
     "ename": "FileNotFoundError",
     "evalue": "[Errno 2] No such file or directory: 'Hyy-23-total.csv'",
     "output_type": "error",
     "traceback": [
      "\u001b[1;31m---------------------------------------------------------------------------\u001b[0m",
      "\u001b[1;31mFileNotFoundError\u001b[0m                         Traceback (most recent call last)",
      "\u001b[1;32m~\\AppData\\Local\\Temp/ipykernel_6632/1262550400.py\u001b[0m in \u001b[0;36m<module>\u001b[1;34m\u001b[0m\n\u001b[0;32m      1\u001b[0m \u001b[1;31m# Kokonaisaerosolitiheys DMPS\u001b[0m\u001b[1;33m\u001b[0m\u001b[1;33m\u001b[0m\u001b[0m\n\u001b[1;32m----> 2\u001b[1;33m aero = pd.read_csv(\"Hyy-23-total.csv\",\n\u001b[0m\u001b[0;32m      3\u001b[0m                   parse_dates = {\"Aika\":[\"Year\", \"Month\", \"Day\", \"Hour\"]}, keep_date_col = True)\n\u001b[0;32m      4\u001b[0m \u001b[1;33m\u001b[0m\u001b[0m\n\u001b[0;32m      5\u001b[0m \u001b[1;31m# Kokonaisaerosolitiheys CPC\u001b[0m\u001b[1;33m\u001b[0m\u001b[1;33m\u001b[0m\u001b[0m\n",
      "\u001b[1;32mC:\\ProgramData\\Anaconda3\\lib\\site-packages\\pandas\\util\\_decorators.py\u001b[0m in \u001b[0;36mwrapper\u001b[1;34m(*args, **kwargs)\u001b[0m\n\u001b[0;32m    309\u001b[0m                     \u001b[0mstacklevel\u001b[0m\u001b[1;33m=\u001b[0m\u001b[0mstacklevel\u001b[0m\u001b[1;33m,\u001b[0m\u001b[1;33m\u001b[0m\u001b[1;33m\u001b[0m\u001b[0m\n\u001b[0;32m    310\u001b[0m                 )\n\u001b[1;32m--> 311\u001b[1;33m             \u001b[1;32mreturn\u001b[0m \u001b[0mfunc\u001b[0m\u001b[1;33m(\u001b[0m\u001b[1;33m*\u001b[0m\u001b[0margs\u001b[0m\u001b[1;33m,\u001b[0m \u001b[1;33m**\u001b[0m\u001b[0mkwargs\u001b[0m\u001b[1;33m)\u001b[0m\u001b[1;33m\u001b[0m\u001b[1;33m\u001b[0m\u001b[0m\n\u001b[0m\u001b[0;32m    312\u001b[0m \u001b[1;33m\u001b[0m\u001b[0m\n\u001b[0;32m    313\u001b[0m         \u001b[1;32mreturn\u001b[0m \u001b[0mwrapper\u001b[0m\u001b[1;33m\u001b[0m\u001b[1;33m\u001b[0m\u001b[0m\n",
      "\u001b[1;32mC:\\ProgramData\\Anaconda3\\lib\\site-packages\\pandas\\io\\parsers\\readers.py\u001b[0m in \u001b[0;36mread_csv\u001b[1;34m(filepath_or_buffer, sep, delimiter, header, names, index_col, usecols, squeeze, prefix, mangle_dupe_cols, dtype, engine, converters, true_values, false_values, skipinitialspace, skiprows, skipfooter, nrows, na_values, keep_default_na, na_filter, verbose, skip_blank_lines, parse_dates, infer_datetime_format, keep_date_col, date_parser, dayfirst, cache_dates, iterator, chunksize, compression, thousands, decimal, lineterminator, quotechar, quoting, doublequote, escapechar, comment, encoding, encoding_errors, dialect, error_bad_lines, warn_bad_lines, on_bad_lines, delim_whitespace, low_memory, memory_map, float_precision, storage_options)\u001b[0m\n\u001b[0;32m    584\u001b[0m     \u001b[0mkwds\u001b[0m\u001b[1;33m.\u001b[0m\u001b[0mupdate\u001b[0m\u001b[1;33m(\u001b[0m\u001b[0mkwds_defaults\u001b[0m\u001b[1;33m)\u001b[0m\u001b[1;33m\u001b[0m\u001b[1;33m\u001b[0m\u001b[0m\n\u001b[0;32m    585\u001b[0m \u001b[1;33m\u001b[0m\u001b[0m\n\u001b[1;32m--> 586\u001b[1;33m     \u001b[1;32mreturn\u001b[0m \u001b[0m_read\u001b[0m\u001b[1;33m(\u001b[0m\u001b[0mfilepath_or_buffer\u001b[0m\u001b[1;33m,\u001b[0m \u001b[0mkwds\u001b[0m\u001b[1;33m)\u001b[0m\u001b[1;33m\u001b[0m\u001b[1;33m\u001b[0m\u001b[0m\n\u001b[0m\u001b[0;32m    587\u001b[0m \u001b[1;33m\u001b[0m\u001b[0m\n\u001b[0;32m    588\u001b[0m \u001b[1;33m\u001b[0m\u001b[0m\n",
      "\u001b[1;32mC:\\ProgramData\\Anaconda3\\lib\\site-packages\\pandas\\io\\parsers\\readers.py\u001b[0m in \u001b[0;36m_read\u001b[1;34m(filepath_or_buffer, kwds)\u001b[0m\n\u001b[0;32m    480\u001b[0m \u001b[1;33m\u001b[0m\u001b[0m\n\u001b[0;32m    481\u001b[0m     \u001b[1;31m# Create the parser.\u001b[0m\u001b[1;33m\u001b[0m\u001b[1;33m\u001b[0m\u001b[0m\n\u001b[1;32m--> 482\u001b[1;33m     \u001b[0mparser\u001b[0m \u001b[1;33m=\u001b[0m \u001b[0mTextFileReader\u001b[0m\u001b[1;33m(\u001b[0m\u001b[0mfilepath_or_buffer\u001b[0m\u001b[1;33m,\u001b[0m \u001b[1;33m**\u001b[0m\u001b[0mkwds\u001b[0m\u001b[1;33m)\u001b[0m\u001b[1;33m\u001b[0m\u001b[1;33m\u001b[0m\u001b[0m\n\u001b[0m\u001b[0;32m    483\u001b[0m \u001b[1;33m\u001b[0m\u001b[0m\n\u001b[0;32m    484\u001b[0m     \u001b[1;32mif\u001b[0m \u001b[0mchunksize\u001b[0m \u001b[1;32mor\u001b[0m \u001b[0miterator\u001b[0m\u001b[1;33m:\u001b[0m\u001b[1;33m\u001b[0m\u001b[1;33m\u001b[0m\u001b[0m\n",
      "\u001b[1;32mC:\\ProgramData\\Anaconda3\\lib\\site-packages\\pandas\\io\\parsers\\readers.py\u001b[0m in \u001b[0;36m__init__\u001b[1;34m(self, f, engine, **kwds)\u001b[0m\n\u001b[0;32m    809\u001b[0m             \u001b[0mself\u001b[0m\u001b[1;33m.\u001b[0m\u001b[0moptions\u001b[0m\u001b[1;33m[\u001b[0m\u001b[1;34m\"has_index_names\"\u001b[0m\u001b[1;33m]\u001b[0m \u001b[1;33m=\u001b[0m \u001b[0mkwds\u001b[0m\u001b[1;33m[\u001b[0m\u001b[1;34m\"has_index_names\"\u001b[0m\u001b[1;33m]\u001b[0m\u001b[1;33m\u001b[0m\u001b[1;33m\u001b[0m\u001b[0m\n\u001b[0;32m    810\u001b[0m \u001b[1;33m\u001b[0m\u001b[0m\n\u001b[1;32m--> 811\u001b[1;33m         \u001b[0mself\u001b[0m\u001b[1;33m.\u001b[0m\u001b[0m_engine\u001b[0m \u001b[1;33m=\u001b[0m \u001b[0mself\u001b[0m\u001b[1;33m.\u001b[0m\u001b[0m_make_engine\u001b[0m\u001b[1;33m(\u001b[0m\u001b[0mself\u001b[0m\u001b[1;33m.\u001b[0m\u001b[0mengine\u001b[0m\u001b[1;33m)\u001b[0m\u001b[1;33m\u001b[0m\u001b[1;33m\u001b[0m\u001b[0m\n\u001b[0m\u001b[0;32m    812\u001b[0m \u001b[1;33m\u001b[0m\u001b[0m\n\u001b[0;32m    813\u001b[0m     \u001b[1;32mdef\u001b[0m \u001b[0mclose\u001b[0m\u001b[1;33m(\u001b[0m\u001b[0mself\u001b[0m\u001b[1;33m)\u001b[0m\u001b[1;33m:\u001b[0m\u001b[1;33m\u001b[0m\u001b[1;33m\u001b[0m\u001b[0m\n",
      "\u001b[1;32mC:\\ProgramData\\Anaconda3\\lib\\site-packages\\pandas\\io\\parsers\\readers.py\u001b[0m in \u001b[0;36m_make_engine\u001b[1;34m(self, engine)\u001b[0m\n\u001b[0;32m   1038\u001b[0m             )\n\u001b[0;32m   1039\u001b[0m         \u001b[1;31m# error: Too many arguments for \"ParserBase\"\u001b[0m\u001b[1;33m\u001b[0m\u001b[1;33m\u001b[0m\u001b[0m\n\u001b[1;32m-> 1040\u001b[1;33m         \u001b[1;32mreturn\u001b[0m \u001b[0mmapping\u001b[0m\u001b[1;33m[\u001b[0m\u001b[0mengine\u001b[0m\u001b[1;33m]\u001b[0m\u001b[1;33m(\u001b[0m\u001b[0mself\u001b[0m\u001b[1;33m.\u001b[0m\u001b[0mf\u001b[0m\u001b[1;33m,\u001b[0m \u001b[1;33m**\u001b[0m\u001b[0mself\u001b[0m\u001b[1;33m.\u001b[0m\u001b[0moptions\u001b[0m\u001b[1;33m)\u001b[0m  \u001b[1;31m# type: ignore[call-arg]\u001b[0m\u001b[1;33m\u001b[0m\u001b[1;33m\u001b[0m\u001b[0m\n\u001b[0m\u001b[0;32m   1041\u001b[0m \u001b[1;33m\u001b[0m\u001b[0m\n\u001b[0;32m   1042\u001b[0m     \u001b[1;32mdef\u001b[0m \u001b[0m_failover_to_python\u001b[0m\u001b[1;33m(\u001b[0m\u001b[0mself\u001b[0m\u001b[1;33m)\u001b[0m\u001b[1;33m:\u001b[0m\u001b[1;33m\u001b[0m\u001b[1;33m\u001b[0m\u001b[0m\n",
      "\u001b[1;32mC:\\ProgramData\\Anaconda3\\lib\\site-packages\\pandas\\io\\parsers\\c_parser_wrapper.py\u001b[0m in \u001b[0;36m__init__\u001b[1;34m(self, src, **kwds)\u001b[0m\n\u001b[0;32m     49\u001b[0m \u001b[1;33m\u001b[0m\u001b[0m\n\u001b[0;32m     50\u001b[0m         \u001b[1;31m# open handles\u001b[0m\u001b[1;33m\u001b[0m\u001b[1;33m\u001b[0m\u001b[0m\n\u001b[1;32m---> 51\u001b[1;33m         \u001b[0mself\u001b[0m\u001b[1;33m.\u001b[0m\u001b[0m_open_handles\u001b[0m\u001b[1;33m(\u001b[0m\u001b[0msrc\u001b[0m\u001b[1;33m,\u001b[0m \u001b[0mkwds\u001b[0m\u001b[1;33m)\u001b[0m\u001b[1;33m\u001b[0m\u001b[1;33m\u001b[0m\u001b[0m\n\u001b[0m\u001b[0;32m     52\u001b[0m         \u001b[1;32massert\u001b[0m \u001b[0mself\u001b[0m\u001b[1;33m.\u001b[0m\u001b[0mhandles\u001b[0m \u001b[1;32mis\u001b[0m \u001b[1;32mnot\u001b[0m \u001b[1;32mNone\u001b[0m\u001b[1;33m\u001b[0m\u001b[1;33m\u001b[0m\u001b[0m\n\u001b[0;32m     53\u001b[0m \u001b[1;33m\u001b[0m\u001b[0m\n",
      "\u001b[1;32mC:\\ProgramData\\Anaconda3\\lib\\site-packages\\pandas\\io\\parsers\\base_parser.py\u001b[0m in \u001b[0;36m_open_handles\u001b[1;34m(self, src, kwds)\u001b[0m\n\u001b[0;32m    220\u001b[0m         \u001b[0mLet\u001b[0m \u001b[0mthe\u001b[0m \u001b[0mreaders\u001b[0m \u001b[0mopen\u001b[0m \u001b[0mIOHandles\u001b[0m \u001b[0mafter\u001b[0m \u001b[0mthey\u001b[0m \u001b[0mare\u001b[0m \u001b[0mdone\u001b[0m \u001b[1;32mwith\u001b[0m \u001b[0mtheir\u001b[0m \u001b[0mpotential\u001b[0m \u001b[0mraises\u001b[0m\u001b[1;33m.\u001b[0m\u001b[1;33m\u001b[0m\u001b[1;33m\u001b[0m\u001b[0m\n\u001b[0;32m    221\u001b[0m         \"\"\"\n\u001b[1;32m--> 222\u001b[1;33m         self.handles = get_handle(\n\u001b[0m\u001b[0;32m    223\u001b[0m             \u001b[0msrc\u001b[0m\u001b[1;33m,\u001b[0m\u001b[1;33m\u001b[0m\u001b[1;33m\u001b[0m\u001b[0m\n\u001b[0;32m    224\u001b[0m             \u001b[1;34m\"r\"\u001b[0m\u001b[1;33m,\u001b[0m\u001b[1;33m\u001b[0m\u001b[1;33m\u001b[0m\u001b[0m\n",
      "\u001b[1;32mC:\\ProgramData\\Anaconda3\\lib\\site-packages\\pandas\\io\\common.py\u001b[0m in \u001b[0;36mget_handle\u001b[1;34m(path_or_buf, mode, encoding, compression, memory_map, is_text, errors, storage_options)\u001b[0m\n\u001b[0;32m    700\u001b[0m         \u001b[1;32mif\u001b[0m \u001b[0mioargs\u001b[0m\u001b[1;33m.\u001b[0m\u001b[0mencoding\u001b[0m \u001b[1;32mand\u001b[0m \u001b[1;34m\"b\"\u001b[0m \u001b[1;32mnot\u001b[0m \u001b[1;32min\u001b[0m \u001b[0mioargs\u001b[0m\u001b[1;33m.\u001b[0m\u001b[0mmode\u001b[0m\u001b[1;33m:\u001b[0m\u001b[1;33m\u001b[0m\u001b[1;33m\u001b[0m\u001b[0m\n\u001b[0;32m    701\u001b[0m             \u001b[1;31m# Encoding\u001b[0m\u001b[1;33m\u001b[0m\u001b[1;33m\u001b[0m\u001b[0m\n\u001b[1;32m--> 702\u001b[1;33m             handle = open(\n\u001b[0m\u001b[0;32m    703\u001b[0m                 \u001b[0mhandle\u001b[0m\u001b[1;33m,\u001b[0m\u001b[1;33m\u001b[0m\u001b[1;33m\u001b[0m\u001b[0m\n\u001b[0;32m    704\u001b[0m                 \u001b[0mioargs\u001b[0m\u001b[1;33m.\u001b[0m\u001b[0mmode\u001b[0m\u001b[1;33m,\u001b[0m\u001b[1;33m\u001b[0m\u001b[1;33m\u001b[0m\u001b[0m\n",
      "\u001b[1;31mFileNotFoundError\u001b[0m: [Errno 2] No such file or directory: 'Hyy-23-total.csv'"
     ]
    }
   ],
   "source": [
    "# Kokonaisaerosolitiheys DMPS\n",
    "aero = pd.read_csv(\"Hyy-23-total.csv\",\n",
    "                  parse_dates = {\"Aika\":[\"Year\", \"Month\", \"Day\", \"Hour\"]}, keep_date_col = True)\n",
    "\n",
    "# Kokonaisaerosolitiheys CPC\n",
    "cpc = pd.read_csv(\"Hyy-23-cpc.csv\",\n",
    "                  parse_dates = {\"Aika\":[\"Year\", \"Month\", \"Day\", \"Hour\"]}, keep_date_col = True)\n",
    "\n",
    "# Lämpötilamittaukset ilmassa 33,6 metrin ja maanpinnalla 4,2 metrin korkeuksilla.\n",
    "temp = pd.read_csv(\"Hyy-23-temp.csv\",\n",
    "                  parse_dates = {\"Aika\":[\"Year\", \"Month\", \"Day\", \"Hour\"]}, keep_date_col = True)"
   ]
  },
  {
   "cell_type": "code",
   "execution_count": 3,
   "id": "4c680380",
   "metadata": {},
   "outputs": [
    {
     "ename": "NameError",
     "evalue": "name 'aero' is not defined",
     "output_type": "error",
     "traceback": [
      "\u001b[1;31m---------------------------------------------------------------------------\u001b[0m",
      "\u001b[1;31mNameError\u001b[0m                                 Traceback (most recent call last)",
      "\u001b[1;32m~\\AppData\\Local\\Temp/ipykernel_6632/2951139069.py\u001b[0m in \u001b[0;36m<module>\u001b[1;34m\u001b[0m\n\u001b[0;32m      1\u001b[0m \u001b[1;31m# Kurkkaus aineiston muotoon.\u001b[0m\u001b[1;33m\u001b[0m\u001b[1;33m\u001b[0m\u001b[0m\n\u001b[1;32m----> 2\u001b[1;33m \u001b[0maero\u001b[0m\u001b[1;33m\u001b[0m\u001b[1;33m\u001b[0m\u001b[0m\n\u001b[0m",
      "\u001b[1;31mNameError\u001b[0m: name 'aero' is not defined"
     ]
    }
   ],
   "source": [
    "# Kurkkaus aineiston muotoon.\n",
    "aero"
   ]
  },
  {
   "cell_type": "markdown",
   "id": "b413cdd8",
   "metadata": {},
   "source": [
    "## Analyysi"
   ]
  },
  {
   "cell_type": "code",
   "execution_count": 4,
   "id": "a8715058",
   "metadata": {},
   "outputs": [
    {
     "ename": "NameError",
     "evalue": "name 'aero' is not defined",
     "output_type": "error",
     "traceback": [
      "\u001b[1;31m---------------------------------------------------------------------------\u001b[0m",
      "\u001b[1;31mNameError\u001b[0m                                 Traceback (most recent call last)",
      "\u001b[1;32m~\\AppData\\Local\\Temp/ipykernel_6632/1377351422.py\u001b[0m in \u001b[0;36m<module>\u001b[1;34m\u001b[0m\n\u001b[0;32m      3\u001b[0m \u001b[0mfig\u001b[0m \u001b[1;33m=\u001b[0m \u001b[0mplt\u001b[0m\u001b[1;33m.\u001b[0m\u001b[0mfigure\u001b[0m\u001b[1;33m(\u001b[0m\u001b[0mfigsize\u001b[0m \u001b[1;33m=\u001b[0m \u001b[1;33m(\u001b[0m\u001b[1;36m30\u001b[0m\u001b[1;33m,\u001b[0m \u001b[1;36m10\u001b[0m\u001b[1;33m)\u001b[0m\u001b[1;33m)\u001b[0m\u001b[1;33m\u001b[0m\u001b[1;33m\u001b[0m\u001b[0m\n\u001b[0;32m      4\u001b[0m \u001b[1;33m\u001b[0m\u001b[0m\n\u001b[1;32m----> 5\u001b[1;33m \u001b[0mplt\u001b[0m\u001b[1;33m.\u001b[0m\u001b[0mplot\u001b[0m\u001b[1;33m(\u001b[0m\u001b[0maero\u001b[0m\u001b[1;33m[\u001b[0m\u001b[1;34m\"Aika\"\u001b[0m\u001b[1;33m]\u001b[0m\u001b[1;33m,\u001b[0m \u001b[0maero\u001b[0m\u001b[1;33m[\u001b[0m\u001b[1;34m\"HYY_DMPS.tconc\"\u001b[0m\u001b[1;33m]\u001b[0m\u001b[1;33m,\u001b[0m \u001b[1;34m\"orange\"\u001b[0m\u001b[1;33m,\u001b[0m \u001b[0mlabel\u001b[0m \u001b[1;33m=\u001b[0m \u001b[1;34m\"Aerosolit DMPS\"\u001b[0m\u001b[1;33m)\u001b[0m\u001b[1;33m\u001b[0m\u001b[1;33m\u001b[0m\u001b[0m\n\u001b[0m\u001b[0;32m      6\u001b[0m \u001b[0mplt\u001b[0m\u001b[1;33m.\u001b[0m\u001b[0mylabel\u001b[0m\u001b[1;33m(\u001b[0m\u001b[1;34m\"1/cm^3\\n\"\u001b[0m\u001b[1;33m,\u001b[0m \u001b[0mfontsize\u001b[0m \u001b[1;33m=\u001b[0m \u001b[1;36m25\u001b[0m\u001b[1;33m)\u001b[0m\u001b[1;33m\u001b[0m\u001b[1;33m\u001b[0m\u001b[0m\n\u001b[0;32m      7\u001b[0m \u001b[1;33m\u001b[0m\u001b[0m\n",
      "\u001b[1;31mNameError\u001b[0m: name 'aero' is not defined"
     ]
    },
    {
     "data": {
      "text/plain": [
       "<Figure size 2160x720 with 0 Axes>"
      ]
     },
     "metadata": {},
     "output_type": "display_data"
    }
   ],
   "source": [
    "# Piirretään kuvaaja.\n",
    "\n",
    "fig = plt.figure(figsize = (30, 10))\n",
    "\n",
    "plt.plot(aero[\"Aika\"], aero[\"HYY_DMPS.tconc\"], \"orange\", label = \"Aerosolit DMPS\")\n",
    "plt.ylabel(\"1/cm^3\\n\", fontsize = 25)\n",
    "\n",
    "plt.plot(cpc[\"Aika\"], cpc[\"HYY_AERO.cn\"], \"green\", label = \"Aerosolit CPC\")\n",
    "plt.ylabel(\"1/cm^3\\n\", fontsize = 25)\n",
    "\n",
    "plt.twinx()\n",
    "\n",
    "plt.plot(temp[\"Aika\"], temp[\"HYY_META.T336\"], \"c\", label = \"Lämpötila\")\n",
    "plt.ylabel(\"Lämpötila (°C)\", fontsize = 25)\n",
    "\n",
    "plt.title(\"Aerosolikonsentraatio Hyytiälän asemalla 1.1.-12.8.2023 \\n\", fontsize = 30)\n",
    "fig.supxlabel(\"\\nAika\", fontsize = 25)\n",
    "\n",
    "fig.legend(loc = \"upper right\", fontsize = 25)\n",
    "plt.show()"
   ]
  },
  {
   "cell_type": "code",
   "execution_count": 5,
   "id": "98f17078",
   "metadata": {},
   "outputs": [
    {
     "ename": "NameError",
     "evalue": "name 'aero' is not defined",
     "output_type": "error",
     "traceback": [
      "\u001b[1;31m---------------------------------------------------------------------------\u001b[0m",
      "\u001b[1;31mNameError\u001b[0m                                 Traceback (most recent call last)",
      "\u001b[1;32m~\\AppData\\Local\\Temp/ipykernel_6632/1389166341.py\u001b[0m in \u001b[0;36m<module>\u001b[1;34m\u001b[0m\n\u001b[0;32m      1\u001b[0m \u001b[1;31m# Kuukausikeskiarvot.\u001b[0m\u001b[1;33m\u001b[0m\u001b[1;33m\u001b[0m\u001b[0m\n\u001b[0;32m      2\u001b[0m \u001b[1;33m\u001b[0m\u001b[0m\n\u001b[1;32m----> 3\u001b[1;33m \u001b[0mKKA\u001b[0m \u001b[1;33m=\u001b[0m \u001b[0maero\u001b[0m\u001b[1;33m.\u001b[0m\u001b[0mgroupby\u001b[0m\u001b[1;33m(\u001b[0m\u001b[1;33m[\u001b[0m\u001b[1;34m\"Month\"\u001b[0m\u001b[1;33m]\u001b[0m\u001b[1;33m)\u001b[0m\u001b[1;33m.\u001b[0m\u001b[0mmean\u001b[0m\u001b[1;33m(\u001b[0m\u001b[1;33m)\u001b[0m\u001b[1;33m\u001b[0m\u001b[1;33m\u001b[0m\u001b[0m\n\u001b[0m\u001b[0;32m      4\u001b[0m \u001b[0mKKT\u001b[0m \u001b[1;33m=\u001b[0m \u001b[0mtemp\u001b[0m\u001b[1;33m.\u001b[0m\u001b[0mgroupby\u001b[0m\u001b[1;33m(\u001b[0m\u001b[1;33m[\u001b[0m\u001b[1;34m\"Month\"\u001b[0m\u001b[1;33m]\u001b[0m\u001b[1;33m)\u001b[0m\u001b[1;33m.\u001b[0m\u001b[0mmean\u001b[0m\u001b[1;33m(\u001b[0m\u001b[1;33m)\u001b[0m\u001b[1;33m\u001b[0m\u001b[1;33m\u001b[0m\u001b[0m\n\u001b[0;32m      5\u001b[0m \u001b[1;33m\u001b[0m\u001b[0m\n",
      "\u001b[1;31mNameError\u001b[0m: name 'aero' is not defined"
     ]
    }
   ],
   "source": [
    "# Kuukausikeskiarvot.\n",
    "\n",
    "KKA = aero.groupby([\"Month\"]).mean()\n",
    "KKT = temp.groupby([\"Month\"]).mean()\n",
    "\n",
    "# Piirretään kuvaaja.\n",
    "\n",
    "fig = plt.figure(figsize = (30, 10))\n",
    "\n",
    "plt.plot(KKA[\"HYY_DMPS.tconc\"], \"orange\", label = \"Aerosolit DMPS\")\n",
    "plt.ylabel(\"1/cm^3\\n\", fontsize = 25)\n",
    "\n",
    "plt.twinx()\n",
    "\n",
    "plt.plot(KKT[\"HYY_META.T336\"], \"c\", label = \"Lämpötila\")\n",
    "plt.ylabel(\"Lämpötila (°C)\", fontsize = 25)\n",
    "\n",
    "plt.title(\"Aerosolikonsentraatio Hyytiälän asemalla 1.1.-12.8.2023 (kuukausikeskiarvo) \\n\", fontsize = 30)\n",
    "fig.supxlabel(\"\\nAika\", fontsize = 25)\n",
    "fig.legend(loc = \"upper right\", fontsize = 25)\n",
    "plt.show()"
   ]
  },
  {
   "cell_type": "code",
   "execution_count": 6,
   "id": "e450bb9a",
   "metadata": {},
   "outputs": [
    {
     "ename": "NameError",
     "evalue": "name 'aero' is not defined",
     "output_type": "error",
     "traceback": [
      "\u001b[1;31m---------------------------------------------------------------------------\u001b[0m",
      "\u001b[1;31mNameError\u001b[0m                                 Traceback (most recent call last)",
      "\u001b[1;32m~\\AppData\\Local\\Temp/ipykernel_6632/2043836167.py\u001b[0m in \u001b[0;36m<module>\u001b[1;34m\u001b[0m\n\u001b[0;32m      1\u001b[0m \u001b[1;31m# Kellonajan mukaan.\u001b[0m\u001b[1;33m\u001b[0m\u001b[1;33m\u001b[0m\u001b[0m\n\u001b[0;32m      2\u001b[0m \u001b[1;33m\u001b[0m\u001b[0m\n\u001b[1;32m----> 3\u001b[1;33m \u001b[0mKA\u001b[0m \u001b[1;33m=\u001b[0m \u001b[0maero\u001b[0m\u001b[1;33m.\u001b[0m\u001b[0mgroupby\u001b[0m\u001b[1;33m(\u001b[0m\u001b[1;33m[\u001b[0m\u001b[1;34m\"Hour\"\u001b[0m\u001b[1;33m]\u001b[0m\u001b[1;33m)\u001b[0m\u001b[1;33m.\u001b[0m\u001b[0mmean\u001b[0m\u001b[1;33m(\u001b[0m\u001b[1;33m)\u001b[0m\u001b[1;33m\u001b[0m\u001b[1;33m\u001b[0m\u001b[0m\n\u001b[0m\u001b[0;32m      4\u001b[0m \u001b[0mKT\u001b[0m \u001b[1;33m=\u001b[0m \u001b[0mtemp\u001b[0m\u001b[1;33m.\u001b[0m\u001b[0mgroupby\u001b[0m\u001b[1;33m(\u001b[0m\u001b[1;33m[\u001b[0m\u001b[1;34m\"Hour\"\u001b[0m\u001b[1;33m]\u001b[0m\u001b[1;33m)\u001b[0m\u001b[1;33m.\u001b[0m\u001b[0mmean\u001b[0m\u001b[1;33m(\u001b[0m\u001b[1;33m)\u001b[0m\u001b[1;33m\u001b[0m\u001b[1;33m\u001b[0m\u001b[0m\n\u001b[0;32m      5\u001b[0m \u001b[1;33m\u001b[0m\u001b[0m\n",
      "\u001b[1;31mNameError\u001b[0m: name 'aero' is not defined"
     ]
    }
   ],
   "source": [
    "# Kellonajan mukaan.\n",
    "\n",
    "KA = aero.groupby([\"Hour\"]).mean()\n",
    "KT = temp.groupby([\"Hour\"]).mean()\n",
    "\n",
    "# Piirretään kuvaaja.\n",
    "\n",
    "fig = plt.figure(figsize = (30, 10))\n",
    "\n",
    "plt.plot(KA[\"HYY_DMPS.tconc\"], \"orange\", label = \"Aerosolit DMPS\")\n",
    "plt.ylabel(\"1/cm^3\\n\", fontsize = 25)\n",
    "\n",
    "plt.twinx()\n",
    "\n",
    "plt.plot(KT[\"HYY_META.T336\"], \"c\", label = \"Lämpötila\")\n",
    "plt.ylabel(\"Lämpötila (°C)\", fontsize = 25)\n",
    "\n",
    "plt.title(\"Aerosolikonsentraatio Hyytiälän asemalla 1.1.-12.8.2023 (tuntikeskiarvo) \\n\", fontsize = 30)\n",
    "fig.supxlabel(\"\\nAika\", fontsize = 25)\n",
    "fig.legend(loc = \"upper right\", fontsize = 25)\n",
    "plt.show()"
   ]
  },
  {
   "cell_type": "markdown",
   "id": "dbedcd1b",
   "metadata": {},
   "source": [
    "## Pohdintaa"
   ]
  },
  {
   "cell_type": "markdown",
   "id": "144c594b",
   "metadata": {},
   "source": [
    "Vertaamalla aerosolien kokonaismääriä lämpötilakehitykseen alkuvuoden kohdalla voidaan todeta, ettei suhde ole ihan niin yksinkertainen kuin \"lämpimällä kelillä kehittyy enemmän pienhiukkasia\" antaisi ymmärtää. Kesällä tapahtuu enemmän kuin talvella, mutta vähemmän kuin keväällä.\n",
    "\n",
    "Vuorokaudenaikaan suhteutettuna kehityskulku sen sijaan onkin astetta jännittävämpi! Siitä saisi varmaan vielä tarkempia näkemyksiä, jos tarkastelisi koko vuoden sijasta yksittäisten vuodenaikojen arvoja vaikka useamman vuodenkin ajalta.\n"
   ]
  },
  {
   "cell_type": "markdown",
   "id": "be3ba35e",
   "metadata": {},
   "source": [
    "## Lähteet"
   ]
  },
  {
   "cell_type": "markdown",
   "id": "45e7d991",
   "metadata": {},
   "source": [
    "Kuvat: https://wiki.helsinki.fi/display/SMEAR/More+photos+for+PR+and+educational+use\n",
    "\n",
    "Tietoja Hyytiälän asemasta: https://www.helsinki.fi/fi/tutkimusasemat/hyytialan-metsaasema/tutkimus\n",
    "\n",
    "Aineistot: https://smear.avaa.csc.fi/download"
   ]
  }
 ],
 "metadata": {
  "kernelspec": {
   "display_name": "Python 3 (ipykernel)",
   "language": "python",
   "name": "python3"
  },
  "language_info": {
   "codemirror_mode": {
    "name": "ipython",
    "version": 3
   },
   "file_extension": ".py",
   "mimetype": "text/x-python",
   "name": "python",
   "nbconvert_exporter": "python",
   "pygments_lexer": "ipython3",
   "version": "3.9.7"
  }
 },
 "nbformat": 4,
 "nbformat_minor": 5
}